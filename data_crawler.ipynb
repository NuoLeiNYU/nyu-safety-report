{
 "cells": [
  {
   "cell_type": "code",
   "execution_count": 1,
   "metadata": {},
   "outputs": [],
   "source": [
    "import os\n",
    "\n",
    "folder_path = './data'\n",
    "\n",
    "# Get a list of all files in the folder\n",
    "files = os.listdir(folder_path)\n",
    "\n",
    "# Loop through the files and delete each one\n",
    "for file in files:\n",
    "    file_path = os.path.join(folder_path, file)\n",
    "    try:\n",
    "        if os.path.isfile(file_path):\n",
    "            os.remove(file_path)\n",
    "            print(f\"Deleted: {file_path}\")\n",
    "    except Exception as e:\n",
    "        print(f\"Error deleting {file_path}: {e}\")"
   ]
  },
  {
   "cell_type": "code",
   "execution_count": 2,
   "metadata": {},
   "outputs": [],
   "source": [
    "import pandas as pd\n",
    "daily_crime_url = 'https://www.nyu.edu/life/safety-health-wellness/campus-safety/crime-log.html'\n",
    "tables = pd.read_html(daily_crime_url) \n",
    "tables[0].to_csv(\"./data/current_month_crime.csv\", index = False)"
   ]
  },
  {
   "cell_type": "code",
   "execution_count": 3,
   "metadata": {},
   "outputs": [],
   "source": [
    "from datetime import datetime, timedelta\n",
    "base_url = 'https://www.nyu.edu/life/safety-health-wellness/campus-safety/crime-log/annual-detail/'\n",
    "current_date = datetime.now()\n",
    "past_crime_url_list = []\n",
    "for i in range(1, 13):\n",
    "    target_date = current_date - timedelta(days=i * 30)\n",
    "    formatted_date = target_date.strftime('%B-%Y').lower()\n",
    "    url = f'{base_url}{formatted_date}.html'\n",
    "    past_crime_url_list.append((formatted_date, url))"
   ]
  },
  {
   "cell_type": "code",
   "execution_count": 4,
   "metadata": {},
   "outputs": [],
   "source": [
    "past_data_list = []\n",
    "for date, past_crime_url in past_crime_url_list:\n",
    "    tables = pd.read_html(past_crime_url) \n",
    "    past_data_list.append(tables[0])\n",
    "\n",
    "past_data = pd.concat(past_data_list)\n",
    "past_data.to_csv('./data/past_year_crime.csv'.format(date), index = False)"
   ]
  }
 ],
 "metadata": {
  "kernelspec": {
   "display_name": "ds",
   "language": "python",
   "name": "python3"
  },
  "language_info": {
   "codemirror_mode": {
    "name": "ipython",
    "version": 3
   },
   "file_extension": ".py",
   "mimetype": "text/x-python",
   "name": "python",
   "nbconvert_exporter": "python",
   "pygments_lexer": "ipython3",
   "version": "3.11.0"
  }
 },
 "nbformat": 4,
 "nbformat_minor": 2
}
